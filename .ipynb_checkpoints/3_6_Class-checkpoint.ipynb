{
 "cells": [
  {
   "cell_type": "markdown",
   "metadata": {
    "id": "3RfQcgkX1b3y"
   },
   "source": [
    "파이썬 클래스를 알아보자\n",
    "\n",
    "함수와 데이터를 함께 저장하기 위해서 클래스를 사용한다. \n",
    "\n",
    "https://wikidocs.net/28"
   ]
  },
  {
   "cell_type": "code",
   "execution_count": 1,
   "metadata": {
    "executionInfo": {
     "elapsed": 7,
     "status": "ok",
     "timestamp": 1652055779298,
     "user": {
      "displayName": "Jooho Shin",
      "userId": "16439599331136410701"
     },
     "user_tz": -540
    },
    "id": "y9cyGb6a1eiH"
   },
   "outputs": [],
   "source": [
    "class neural():\n",
    "  def __init__(self):\n",
    "    self.w = 0\n",
    "  def forward(self,n):\n",
    "    self.w+= n\n",
    "  def show(self):\n",
    "    print(self.w)"
   ]
  },
  {
   "cell_type": "code",
   "execution_count": 2,
   "metadata": {
    "executionInfo": {
     "elapsed": 4,
     "status": "ok",
     "timestamp": 1652055779298,
     "user": {
      "displayName": "Jooho Shin",
      "userId": "16439599331136410701"
     },
     "user_tz": -540
    },
    "id": "trdkfkLx1txn"
   },
   "outputs": [],
   "source": [
    "n = neural()"
   ]
  },
  {
   "cell_type": "code",
   "execution_count": 4,
   "metadata": {
    "executionInfo": {
     "elapsed": 301,
     "status": "ok",
     "timestamp": 1652055788432,
     "user": {
      "displayName": "Jooho Shin",
      "userId": "16439599331136410701"
     },
     "user_tz": -540
    },
    "id": "8U4XvfHu1zfu"
   },
   "outputs": [],
   "source": [
    "n.forward(1)"
   ]
  },
  {
   "cell_type": "code",
   "execution_count": 5,
   "metadata": {
    "executionInfo": {
     "elapsed": 331,
     "status": "ok",
     "timestamp": 1652055790523,
     "user": {
      "displayName": "Jooho Shin",
      "userId": "16439599331136410701"
     },
     "user_tz": -540
    },
    "id": "074PuR5L2QHn"
   },
   "outputs": [],
   "source": [
    "n.forward(2)"
   ]
  },
  {
   "cell_type": "code",
   "execution_count": 6,
   "metadata": {
    "colab": {
     "base_uri": "https://localhost:8080/"
    },
    "executionInfo": {
     "elapsed": 6,
     "status": "ok",
     "timestamp": 1652055791836,
     "user": {
      "displayName": "Jooho Shin",
      "userId": "16439599331136410701"
     },
     "user_tz": -540
    },
    "id": "4Vyw-RsG326R",
    "outputId": "6d3bfdc1-8a5b-4c1e-f1d2-8c081d488893"
   },
   "outputs": [
    {
     "name": "stdout",
     "output_type": "stream",
     "text": [
      "3\n"
     ]
    }
   ],
   "source": [
    "n.show()"
   ]
  },
  {
   "cell_type": "markdown",
   "metadata": {
    "id": "jQck-klH2UyO"
   },
   "source": [
    "클래스 상속을 알아보자\n",
    "\n",
    "상속을 통해 부모 클래스의 함수들을 사용할 수 있다. \n",
    "\n",
    "또한 일부 함수는 재정의해서 사용할 수 있다. "
   ]
  },
  {
   "cell_type": "code",
   "execution_count": 7,
   "metadata": {
    "executionInfo": {
     "elapsed": 272,
     "status": "ok",
     "timestamp": 1652055940692,
     "user": {
      "displayName": "Jooho Shin",
      "userId": "16439599331136410701"
     },
     "user_tz": -540
    },
    "id": "UdmQIYPV2YjY"
   },
   "outputs": [],
   "source": [
    "class mynn(neural):\n",
    "  def __init__(self):\n",
    "    super().__init__()    \n",
    "  def forward(self, n):\n",
    "    self.w -= n    "
   ]
  },
  {
   "cell_type": "code",
   "execution_count": 8,
   "metadata": {
    "executionInfo": {
     "elapsed": 333,
     "status": "ok",
     "timestamp": 1652055942543,
     "user": {
      "displayName": "Jooho Shin",
      "userId": "16439599331136410701"
     },
     "user_tz": -540
    },
    "id": "BcKg_Ww-3UAn"
   },
   "outputs": [],
   "source": [
    "m = mynn()"
   ]
  },
  {
   "cell_type": "code",
   "execution_count": 9,
   "metadata": {
    "executionInfo": {
     "elapsed": 296,
     "status": "ok",
     "timestamp": 1652055944600,
     "user": {
      "displayName": "Jooho Shin",
      "userId": "16439599331136410701"
     },
     "user_tz": -540
    },
    "id": "7Djisi123XF2"
   },
   "outputs": [],
   "source": [
    "m.forward(3)"
   ]
  },
  {
   "cell_type": "code",
   "execution_count": 10,
   "metadata": {
    "colab": {
     "base_uri": "https://localhost:8080/"
    },
    "executionInfo": {
     "elapsed": 274,
     "status": "ok",
     "timestamp": 1652055947339,
     "user": {
      "displayName": "Jooho Shin",
      "userId": "16439599331136410701"
     },
     "user_tz": -540
    },
    "id": "G9XRX1b23tuv",
    "outputId": "3e9cdbcb-42ff-47cb-8ce5-1180248d2bbd"
   },
   "outputs": [
    {
     "name": "stdout",
     "output_type": "stream",
     "text": [
      "-3\n"
     ]
    }
   ],
   "source": [
    "m.show()"
   ]
  },
  {
   "cell_type": "code",
   "execution_count": null,
   "metadata": {
    "id": "9MRZlA00NB1t"
   },
   "outputs": [],
   "source": []
  }
 ],
 "metadata": {
  "colab": {
   "authorship_tag": "ABX9TyMzMiA5RaOG6XI5s19+eCr+",
   "collapsed_sections": [],
   "name": "19_3_Class.ipynb",
   "provenance": []
  },
  "kernelspec": {
   "display_name": "Python 3 (ipykernel)",
   "language": "python",
   "name": "python3"
  },
  "language_info": {
   "codemirror_mode": {
    "name": "ipython",
    "version": 3
   },
   "file_extension": ".py",
   "mimetype": "text/x-python",
   "name": "python",
   "nbconvert_exporter": "python",
   "pygments_lexer": "ipython3",
   "version": "3.9.12"
  }
 },
 "nbformat": 4,
 "nbformat_minor": 1
}
