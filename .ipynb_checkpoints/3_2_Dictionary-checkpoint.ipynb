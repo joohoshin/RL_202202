{
 "cells": [
  {
   "cell_type": "markdown",
   "metadata": {
    "collapsed": true,
    "id": "ucbir7DpQQSx"
   },
   "source": [
    "# Dictionary\n",
    "* 여러 값을 저장할 수 있으며, 이름: 값 형대로 저장할 수 있음\n",
    "* {} 기호를 사용하며, 리스트와 동일하게 값 구분은 ,를 사용함"
   ]
  },
  {
   "cell_type": "code",
   "execution_count": 1,
   "metadata": {
    "colab": {
     "base_uri": "https://localhost:8080/"
    },
    "executionInfo": {
     "elapsed": 9,
     "status": "ok",
     "timestamp": 1644136800884,
     "user": {
      "displayName": "Jooho Shin",
      "photoUrl": "https://lh3.googleusercontent.com/a/default-user=s64",
      "userId": "16439599331136410701"
     },
     "user_tz": -540
    },
    "id": "aX7eL979QQSy",
    "outputId": "a6c71962-0fb0-4f87-d343-feee5658d933"
   },
   "outputs": [
    {
     "data": {
      "text/plain": [
       "{'메시': '00-0000-1111', '박지성': '0000-1234', '손흥민': '000-1111'}"
      ]
     },
     "execution_count": 1,
     "metadata": {},
     "output_type": "execute_result"
    }
   ],
   "source": [
    "전화번호 = {'손흥민':'000-1111', '박지성':'0000-1234', '메시':'00-0000-1111'}\n",
    "전화번호"
   ]
  },
  {
   "cell_type": "markdown",
   "metadata": {
    "id": "O0_DEKDVQQS3"
   },
   "source": [
    "* 값은 이름(key)를 [  ]안에 넣어서 가져온다\n",
    "* key는 중복하여 사용할 수 없다. "
   ]
  },
  {
   "cell_type": "code",
   "execution_count": 2,
   "metadata": {
    "colab": {
     "base_uri": "https://localhost:8080/",
     "height": 35
    },
    "executionInfo": {
     "elapsed": 355,
     "status": "ok",
     "timestamp": 1644136823152,
     "user": {
      "displayName": "Jooho Shin",
      "photoUrl": "https://lh3.googleusercontent.com/a/default-user=s64",
      "userId": "16439599331136410701"
     },
     "user_tz": -540
    },
    "id": "XIbCxtyFQQS3",
    "outputId": "4e9b0133-7875-4fa3-e1f9-21413552b43c"
   },
   "outputs": [
    {
     "data": {
      "application/vnd.google.colaboratory.intrinsic+json": {
       "type": "string"
      },
      "text/plain": [
       "'0000-1234'"
      ]
     },
     "execution_count": 2,
     "metadata": {},
     "output_type": "execute_result"
    }
   ],
   "source": [
    "전화번호['박지성']"
   ]
  },
  {
   "cell_type": "markdown",
   "metadata": {
    "id": "baX4TugFQQS7"
   },
   "source": [
    "* 추가할 때는 변수명[key] = 값"
   ]
  },
  {
   "cell_type": "code",
   "execution_count": 3,
   "metadata": {
    "colab": {
     "base_uri": "https://localhost:8080/"
    },
    "executionInfo": {
     "elapsed": 315,
     "status": "ok",
     "timestamp": 1644136837414,
     "user": {
      "displayName": "Jooho Shin",
      "photoUrl": "https://lh3.googleusercontent.com/a/default-user=s64",
      "userId": "16439599331136410701"
     },
     "user_tz": -540
    },
    "id": "VeEX8VncQQS7",
    "outputId": "6cc72517-a588-449b-88bd-0388df0ae3ff"
   },
   "outputs": [
    {
     "data": {
      "text/plain": [
       "{'메시': '00-0000-1111',\n",
       " '박지성': '0000-1234',\n",
       " '손흥민': '000-1111',\n",
       " '호날두': '00-0011-1111'}"
      ]
     },
     "execution_count": 3,
     "metadata": {},
     "output_type": "execute_result"
    }
   ],
   "source": [
    "전화번호['호날두']='00-0011-1111'\n",
    "전화번호"
   ]
  },
  {
   "cell_type": "markdown",
   "metadata": {
    "id": "-DkzC6bOQQS_"
   },
   "source": [
    "* 삭제는 리스트와 동일하게 del을 사용"
   ]
  },
  {
   "cell_type": "code",
   "execution_count": null,
   "metadata": {
    "colab": {
     "base_uri": "https://localhost:8080/"
    },
    "executionInfo": {
     "elapsed": 327,
     "status": "ok",
     "timestamp": 1644136854918,
     "user": {
      "displayName": "Jooho Shin",
      "photoUrl": "https://lh3.googleusercontent.com/a/default-user=s64",
      "userId": "16439599331136410701"
     },
     "user_tz": -540
    },
    "id": "50gAeltMQQS_",
    "outputId": "036164f3-f224-4944-aad1-fbefc41891c1"
   },
   "outputs": [],
   "source": [
    "del 전화번호['박지성']\n",
    "전화번호"
   ]
  },
  {
   "cell_type": "markdown",
   "metadata": {},
   "source": [
    "# 데이터 라벨 예시\n",
    "\n",
    "* 많은 데이터 라벨은 리스트와 딕셔너리를 함께 사용한 json 형태로 저장합니다. \n",
    "  아래는 객체인식에서 많이 사용되는 COCO Dataset의 데이터 라벨 예시입니다"
   ]
  },
  {
   "cell_type": "markdown",
   "metadata": {
    "id": "1h1jD_WdQQTC"
   },
   "source": [
    "\n",
    "https://towardsdatascience.com/how-to-work-with-object-detection-datasets-in-coco-format-9bf4fb5848a4\n",
    "\n",
    "```\n",
    "{\n",
    "    \"info\": {\n",
    "        \"year\": \"2021\",\n",
    "        \"version\": \"1.0\",\n",
    "        \"description\": \"Exported from FiftyOne\",\n",
    "        \"contributor\": \"Voxel51\",\n",
    "        \"url\": \"https://fiftyone.ai\",\n",
    "        \"date_created\": \"2021-01-19T09:48:27\"\n",
    "    },\n",
    "    \"licenses\": [\n",
    "        {\n",
    "          \"url\": \"http://creativecommons.org/licenses/by-nc-sa/2.0/\",\n",
    "          \"id\": 1,\n",
    "          \"name\": \"Attribution-NonCommercial-ShareAlike License\"\n",
    "        },\n",
    "        ...   \n",
    "    ],\n",
    "    \"categories\": [\n",
    "        ...\n",
    "        {\n",
    "            \"id\": 2,\n",
    "            \"name\": \"cat\",\n",
    "            \"supercategory\": \"animal\"\n",
    "        },\n",
    "        ...\n",
    "    ],\n",
    "    \"images\": [\n",
    "        {\n",
    "            \"id\": 0,\n",
    "            \"license\": 1,\n",
    "            \"file_name\": \"<filename0>.<ext>\",\n",
    "            \"height\": 480,\n",
    "            \"width\": 640,\n",
    "            \"date_captured\": null\n",
    "        },\n",
    "        ...\n",
    "    ],\n",
    "    \"annotations\": [\n",
    "        {\n",
    "            \"id\": 0,\n",
    "            \"image_id\": 0,\n",
    "            \"category_id\": 2,\n",
    "            \"bbox\": [260, 177, 231, 199],\n",
    "            \"segmentation\": [...],\n",
    "            \"area\": 45969,\n",
    "            \"iscrowd\": 0\n",
    "        },\n",
    "        ...\n",
    "    ]\n",
    "}\n",
    "```"
   ]
  },
  {
   "cell_type": "code",
   "execution_count": null,
   "metadata": {},
   "outputs": [],
   "source": []
  }
 ],
 "metadata": {
  "colab": {
   "collapsed_sections": [],
   "name": "2_6_Dictionary.ipynb",
   "provenance": []
  },
  "kernelspec": {
   "display_name": "Python 3 (ipykernel)",
   "language": "python",
   "name": "python3"
  },
  "language_info": {
   "codemirror_mode": {
    "name": "ipython",
    "version": 3
   },
   "file_extension": ".py",
   "mimetype": "text/x-python",
   "name": "python",
   "nbconvert_exporter": "python",
   "pygments_lexer": "ipython3",
   "version": "3.9.12"
  }
 },
 "nbformat": 4,
 "nbformat_minor": 1
}
