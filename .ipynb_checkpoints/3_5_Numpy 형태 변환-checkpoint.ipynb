{
 "cells": [
  {
   "cell_type": "markdown",
   "metadata": {
    "id": "nzi2QsWIPoZH"
   },
   "source": [
    "딥러닝 모델링 시 입력 데이터의 형태를 변환해줘야 하는 경우가 많으며\n",
    "이에 활용되는 함수를 알아보자"
   ]
  },
  {
   "cell_type": "code",
   "execution_count": 1,
   "metadata": {
    "executionInfo": {
     "elapsed": 258,
     "status": "ok",
     "timestamp": 1647216927504,
     "user": {
      "displayName": "Jooho Shin",
      "photoUrl": "https://lh3.googleusercontent.com/a/default-user=s64",
      "userId": "16439599331136410701"
     },
     "user_tz": -540
    },
    "id": "aC6KykgzPlLL"
   },
   "outputs": [],
   "source": [
    "import numpy as np"
   ]
  },
  {
   "cell_type": "code",
   "execution_count": null,
   "metadata": {
    "id": "8NaKhDVIPwMQ"
   },
   "outputs": [],
   "source": [
    "# 이미지 데이터의 경우 대부분 4개의 차원을 가짐\n",
    "# 텐서플로우는 (n, w, h, c) 형태로 모델링\n"
   ]
  },
  {
   "cell_type": "code",
   "execution_count": 3,
   "metadata": {
    "executionInfo": {
     "elapsed": 353,
     "status": "ok",
     "timestamp": 1647217174018,
     "user": {
      "displayName": "Jooho Shin",
      "photoUrl": "https://lh3.googleusercontent.com/a/default-user=s64",
      "userId": "16439599331136410701"
     },
     "user_tz": -540
    },
    "id": "K5iLlGZxQutf"
   },
   "outputs": [],
   "source": [
    "arr1 = np.random.randint(0,256, (30,30,3))"
   ]
  },
  {
   "cell_type": "code",
   "execution_count": 4,
   "metadata": {
    "colab": {
     "base_uri": "https://localhost:8080/"
    },
    "executionInfo": {
     "elapsed": 282,
     "status": "ok",
     "timestamp": 1647217175994,
     "user": {
      "displayName": "Jooho Shin",
      "photoUrl": "https://lh3.googleusercontent.com/a/default-user=s64",
      "userId": "16439599331136410701"
     },
     "user_tz": -540
    },
    "id": "ahS3ZWMxRGnH",
    "outputId": "9b8e06af-721c-4c35-c28a-18b13a07165c"
   },
   "outputs": [
    {
     "data": {
      "text/plain": [
       "(30, 30, 3)"
      ]
     },
     "execution_count": 4,
     "metadata": {},
     "output_type": "execute_result"
    }
   ],
   "source": [
    "arr1.shape"
   ]
  },
  {
   "cell_type": "code",
   "execution_count": 5,
   "metadata": {
    "colab": {
     "base_uri": "https://localhost:8080/"
    },
    "executionInfo": {
     "elapsed": 1250,
     "status": "ok",
     "timestamp": 1647217181453,
     "user": {
      "displayName": "Jooho Shin",
      "photoUrl": "https://lh3.googleusercontent.com/a/default-user=s64",
      "userId": "16439599331136410701"
     },
     "user_tz": -540
    },
    "id": "XnaKVYhQRIzH",
    "outputId": "27dcd94c-b218-4bc5-e7b1-f09dc0bf3275"
   },
   "outputs": [
    {
     "data": {
      "text/plain": [
       "array([[[177,  34, 227],\n",
       "        [ 26, 224, 180],\n",
       "        [ 65, 231, 206],\n",
       "        ...,\n",
       "        [ 36, 240, 161],\n",
       "        [111,  18, 182],\n",
       "        [ 86, 127, 208]],\n",
       "\n",
       "       [[110,  19,  64],\n",
       "        [ 12,  79, 145],\n",
       "        [  9,  95, 208],\n",
       "        ...,\n",
       "        [ 79, 127, 119],\n",
       "        [ 94, 139, 179],\n",
       "        [171, 192,  88]],\n",
       "\n",
       "       [[167, 135, 205],\n",
       "        [236,  17, 158],\n",
       "        [246, 225,  43],\n",
       "        ...,\n",
       "        [111, 196, 225],\n",
       "        [ 33,  56,  23],\n",
       "        [ 82, 217, 187]],\n",
       "\n",
       "       ...,\n",
       "\n",
       "       [[ 22,  72, 237],\n",
       "        [ 87, 158, 129],\n",
       "        [ 18, 143,  46],\n",
       "        ...,\n",
       "        [ 34,  85, 114],\n",
       "        [ 29,  17, 120],\n",
       "        [  2, 134, 157]],\n",
       "\n",
       "       [[219,  83, 252],\n",
       "        [200, 198,  58],\n",
       "        [174,  24, 211],\n",
       "        ...,\n",
       "        [198, 254, 250],\n",
       "        [ 48, 137, 154],\n",
       "        [145, 113,   5]],\n",
       "\n",
       "       [[ 60,  94,  96],\n",
       "        [211,  34, 125],\n",
       "        [106,  99,  25],\n",
       "        ...,\n",
       "        [110, 191,  30],\n",
       "        [140, 152, 181],\n",
       "        [228, 199, 136]]])"
      ]
     },
     "execution_count": 5,
     "metadata": {},
     "output_type": "execute_result"
    }
   ],
   "source": [
    "arr1"
   ]
  },
  {
   "cell_type": "markdown",
   "metadata": {
    "id": "H9X72TncSfwQ"
   },
   "source": [
    "expand_dims: 차원을 추가할 수 있다"
   ]
  },
  {
   "cell_type": "code",
   "execution_count": 7,
   "metadata": {
    "executionInfo": {
     "elapsed": 270,
     "status": "ok",
     "timestamp": 1647217186432,
     "user": {
      "displayName": "Jooho Shin",
      "photoUrl": "https://lh3.googleusercontent.com/a/default-user=s64",
      "userId": "16439599331136410701"
     },
     "user_tz": -540
    },
    "id": "PlemZ7veRKNv"
   },
   "outputs": [],
   "source": [
    "# 1차원 추가하기\n",
    "arr2 = np.expand_dims(arr1,0)  # 몇 번째에 추가할지 지정 가능"
   ]
  },
  {
   "cell_type": "code",
   "execution_count": 10,
   "metadata": {
    "executionInfo": {
     "elapsed": 276,
     "status": "ok",
     "timestamp": 1647217242056,
     "user": {
      "displayName": "Jooho Shin",
      "photoUrl": "https://lh3.googleusercontent.com/a/default-user=s64",
      "userId": "16439599331136410701"
     },
     "user_tz": -540
    },
    "id": "6ilL150joFPa"
   },
   "outputs": [],
   "source": [
    "?np.expand_dims"
   ]
  },
  {
   "cell_type": "code",
   "execution_count": 8,
   "metadata": {
    "colab": {
     "base_uri": "https://localhost:8080/"
    },
    "executionInfo": {
     "elapsed": 271,
     "status": "ok",
     "timestamp": 1647217196206,
     "user": {
      "displayName": "Jooho Shin",
      "photoUrl": "https://lh3.googleusercontent.com/a/default-user=s64",
      "userId": "16439599331136410701"
     },
     "user_tz": -540
    },
    "id": "nWzZ0vdMRcMn",
    "outputId": "d8bdc6d3-29d2-4488-bcc7-325f4115078a"
   },
   "outputs": [
    {
     "data": {
      "text/plain": [
       "(1, 30, 30, 3)"
      ]
     },
     "execution_count": 8,
     "metadata": {},
     "output_type": "execute_result"
    }
   ],
   "source": [
    "arr2.shape"
   ]
  },
  {
   "cell_type": "code",
   "execution_count": 11,
   "metadata": {
    "colab": {
     "base_uri": "https://localhost:8080/"
    },
    "executionInfo": {
     "elapsed": 251,
     "status": "ok",
     "timestamp": 1647217295762,
     "user": {
      "displayName": "Jooho Shin",
      "photoUrl": "https://lh3.googleusercontent.com/a/default-user=s64",
      "userId": "16439599331136410701"
     },
     "user_tz": -540
    },
    "id": "I2YqX7J2RdRu",
    "outputId": "ad056c81-c9d5-46f0-f17c-0a19c36db4bd"
   },
   "outputs": [
    {
     "data": {
      "text/plain": [
       "(30, 30, 3, 1)"
      ]
     },
     "execution_count": 11,
     "metadata": {},
     "output_type": "execute_result"
    }
   ],
   "source": [
    "arr3 = np.expand_dims(arr1,3)  # 몇 번째에 추가할지 지정 가능\n",
    "arr3.shape"
   ]
  },
  {
   "cell_type": "markdown",
   "metadata": {
    "id": "wckLi7ZZSk_I"
   },
   "source": [
    "squeeze: 차원 삭제"
   ]
  },
  {
   "cell_type": "code",
   "execution_count": 12,
   "metadata": {
    "colab": {
     "base_uri": "https://localhost:8080/"
    },
    "executionInfo": {
     "elapsed": 271,
     "status": "ok",
     "timestamp": 1647217315454,
     "user": {
      "displayName": "Jooho Shin",
      "photoUrl": "https://lh3.googleusercontent.com/a/default-user=s64",
      "userId": "16439599331136410701"
     },
     "user_tz": -540
    },
    "id": "qyM4LmggR_tv",
    "outputId": "0ebe4bbe-be3c-4dcf-f0c5-5b4778b4b37e"
   },
   "outputs": [
    {
     "data": {
      "text/plain": [
       "(30, 30, 3)"
      ]
     },
     "execution_count": 12,
     "metadata": {},
     "output_type": "execute_result"
    }
   ],
   "source": [
    "# 차원 삭제하기\n",
    "arr3.squeeze(3).shape"
   ]
  },
  {
   "cell_type": "code",
   "execution_count": null,
   "metadata": {
    "colab": {
     "base_uri": "https://localhost:8080/"
    },
    "executionInfo": {
     "elapsed": 35,
     "status": "ok",
     "timestamp": 1646375728102,
     "user": {
      "displayName": "Jooho Shin",
      "photoUrl": "https://lh3.googleusercontent.com/a/default-user=s64",
      "userId": "16439599331136410701"
     },
     "user_tz": -540
    },
    "id": "gNRGtD6Vo7OL",
    "outputId": "6072cc41-3181-4b52-899c-3187901f11b4"
   },
   "outputs": [
    {
     "data": {
      "text/plain": [
       "array([0, 1, 2, 3, 4, 5, 6, 7, 8, 9])"
      ]
     },
     "execution_count": 7,
     "metadata": {},
     "output_type": "execute_result"
    }
   ],
   "source": [
    "np.arange(10)"
   ]
  },
  {
   "cell_type": "markdown",
   "metadata": {
    "id": "OeaFyol_WEDB"
   },
   "source": [
    "reshape: 형태 변경"
   ]
  },
  {
   "cell_type": "code",
   "execution_count": 13,
   "metadata": {
    "executionInfo": {
     "elapsed": 270,
     "status": "ok",
     "timestamp": 1647217382532,
     "user": {
      "displayName": "Jooho Shin",
      "photoUrl": "https://lh3.googleusercontent.com/a/default-user=s64",
      "userId": "16439599331136410701"
     },
     "user_tz": -540
    },
    "id": "O11NI-diS30o"
   },
   "outputs": [],
   "source": [
    "arr4 = np.arange(100).reshape(20,5)"
   ]
  },
  {
   "cell_type": "code",
   "execution_count": 14,
   "metadata": {
    "colab": {
     "base_uri": "https://localhost:8080/"
    },
    "executionInfo": {
     "elapsed": 267,
     "status": "ok",
     "timestamp": 1647217385153,
     "user": {
      "displayName": "Jooho Shin",
      "photoUrl": "https://lh3.googleusercontent.com/a/default-user=s64",
      "userId": "16439599331136410701"
     },
     "user_tz": -540
    },
    "id": "sYTsGn-6WOcY",
    "outputId": "33316d60-2d45-4cac-e4bc-97e08b89d3fc"
   },
   "outputs": [
    {
     "data": {
      "text/plain": [
       "(20, 5)"
      ]
     },
     "execution_count": 14,
     "metadata": {},
     "output_type": "execute_result"
    }
   ],
   "source": [
    "arr4.shape"
   ]
  },
  {
   "cell_type": "code",
   "execution_count": 15,
   "metadata": {
    "colab": {
     "base_uri": "https://localhost:8080/"
    },
    "executionInfo": {
     "elapsed": 389,
     "status": "ok",
     "timestamp": 1647217390664,
     "user": {
      "displayName": "Jooho Shin",
      "photoUrl": "https://lh3.googleusercontent.com/a/default-user=s64",
      "userId": "16439599331136410701"
     },
     "user_tz": -540
    },
    "id": "OL9HredbpC_-",
    "outputId": "527cedf8-eee7-4aae-fd16-6da5326c7b52"
   },
   "outputs": [
    {
     "data": {
      "text/plain": [
       "array([[ 0,  1,  2,  3,  4],\n",
       "       [ 5,  6,  7,  8,  9],\n",
       "       [10, 11, 12, 13, 14],\n",
       "       [15, 16, 17, 18, 19],\n",
       "       [20, 21, 22, 23, 24],\n",
       "       [25, 26, 27, 28, 29],\n",
       "       [30, 31, 32, 33, 34],\n",
       "       [35, 36, 37, 38, 39],\n",
       "       [40, 41, 42, 43, 44],\n",
       "       [45, 46, 47, 48, 49],\n",
       "       [50, 51, 52, 53, 54],\n",
       "       [55, 56, 57, 58, 59],\n",
       "       [60, 61, 62, 63, 64],\n",
       "       [65, 66, 67, 68, 69],\n",
       "       [70, 71, 72, 73, 74],\n",
       "       [75, 76, 77, 78, 79],\n",
       "       [80, 81, 82, 83, 84],\n",
       "       [85, 86, 87, 88, 89],\n",
       "       [90, 91, 92, 93, 94],\n",
       "       [95, 96, 97, 98, 99]])"
      ]
     },
     "execution_count": 15,
     "metadata": {},
     "output_type": "execute_result"
    }
   ],
   "source": [
    "arr4"
   ]
  },
  {
   "cell_type": "markdown",
   "metadata": {
    "id": "FRm4m7i_Wh6o"
   },
   "source": [
    "transpose: 순서 변경"
   ]
  },
  {
   "cell_type": "code",
   "execution_count": 16,
   "metadata": {
    "colab": {
     "base_uri": "https://localhost:8080/"
    },
    "executionInfo": {
     "elapsed": 257,
     "status": "ok",
     "timestamp": 1647217408910,
     "user": {
      "displayName": "Jooho Shin",
      "photoUrl": "https://lh3.googleusercontent.com/a/default-user=s64",
      "userId": "16439599331136410701"
     },
     "user_tz": -540
    },
    "id": "RCemYm9xWP9H",
    "outputId": "fff46a41-d771-447a-ca11-25fa35984686"
   },
   "outputs": [
    {
     "data": {
      "text/plain": [
       "(30, 30, 3, 1)"
      ]
     },
     "execution_count": 16,
     "metadata": {},
     "output_type": "execute_result"
    }
   ],
   "source": [
    "arr3.shape"
   ]
  },
  {
   "cell_type": "code",
   "execution_count": 17,
   "metadata": {
    "executionInfo": {
     "elapsed": 258,
     "status": "ok",
     "timestamp": 1647217411754,
     "user": {
      "displayName": "Jooho Shin",
      "photoUrl": "https://lh3.googleusercontent.com/a/default-user=s64",
      "userId": "16439599331136410701"
     },
     "user_tz": -540
    },
    "id": "B_BxCbldWsy_"
   },
   "outputs": [],
   "source": [
    "arr5=arr3.transpose(3,0,1,2)"
   ]
  },
  {
   "cell_type": "code",
   "execution_count": 19,
   "metadata": {
    "colab": {
     "base_uri": "https://localhost:8080/"
    },
    "executionInfo": {
     "elapsed": 275,
     "status": "ok",
     "timestamp": 1647217440367,
     "user": {
      "displayName": "Jooho Shin",
      "photoUrl": "https://lh3.googleusercontent.com/a/default-user=s64",
      "userId": "16439599331136410701"
     },
     "user_tz": -540
    },
    "id": "-1RnWjAYWxzA",
    "outputId": "2ae6f0fe-abe6-41c7-b3bd-ecd51ab9cecf"
   },
   "outputs": [
    {
     "data": {
      "text/plain": [
       "(1, 30, 30, 3)"
      ]
     },
     "execution_count": 19,
     "metadata": {},
     "output_type": "execute_result"
    }
   ],
   "source": [
    "arr5.shape"
   ]
  },
  {
   "cell_type": "code",
   "execution_count": null,
   "metadata": {
    "id": "YyDMLJHMW0j3"
   },
   "outputs": [],
   "source": []
  }
 ],
 "metadata": {
  "colab": {
   "authorship_tag": "ABX9TyMFMnDRtZ4e/aZ/oGIJ7BmA",
   "collapsed_sections": [],
   "mount_file_id": "1P1XbZBc6SDifbrovSAQC3CdqxYwuSHgU",
   "name": "3_3_Numpy 형태 변환.ipynb",
   "provenance": []
  },
  "kernelspec": {
   "display_name": "Python 3 (ipykernel)",
   "language": "python",
   "name": "python3"
  },
  "language_info": {
   "codemirror_mode": {
    "name": "ipython",
    "version": 3
   },
   "file_extension": ".py",
   "mimetype": "text/x-python",
   "name": "python",
   "nbconvert_exporter": "python",
   "pygments_lexer": "ipython3",
   "version": "3.9.12"
  }
 },
 "nbformat": 4,
 "nbformat_minor": 1
}
