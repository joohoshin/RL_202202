{
 "cells": [
  {
   "cell_type": "markdown",
   "metadata": {
    "id": "RKguPBH_QPDI"
   },
   "source": [
    "# List\n",
    "* 한개의 변수명에 여러개의 값을 저장할 수 있습니다. \n",
    "* [  ] 기호 안에 값을 넣어줍니다.  comma 로 값들을 구분합니다. "
   ]
  },
  {
   "cell_type": "code",
   "execution_count": 1,
   "metadata": {
    "colab": {
     "base_uri": "https://localhost:8080/"
    },
    "executionInfo": {
     "elapsed": 10,
     "status": "ok",
     "timestamp": 1644134312607,
     "user": {
      "displayName": "Jooho Shin",
      "photoUrl": "https://lh3.googleusercontent.com/a/default-user=s64",
      "userId": "16439599331136410701"
     },
     "user_tz": -540
    },
    "id": "XrQ8rirnQPDJ",
    "outputId": "f1cabf36-aec6-4688-d087-d38aadb792cc"
   },
   "outputs": [
    {
     "data": {
      "text/plain": [
       "['red', 'blue', 'black']"
      ]
     },
     "execution_count": 1,
     "metadata": {},
     "output_type": "execute_result"
    }
   ],
   "source": [
    "colors = ['red', 'blue', 'black']\n",
    "colors"
   ]
  },
  {
   "cell_type": "code",
   "execution_count": 5,
   "metadata": {
    "colab": {
     "base_uri": "https://localhost:8080/"
    },
    "executionInfo": {
     "elapsed": 413,
     "status": "ok",
     "timestamp": 1644136386833,
     "user": {
      "displayName": "Jooho Shin",
      "photoUrl": "https://lh3.googleusercontent.com/a/default-user=s64",
      "userId": "16439599331136410701"
     },
     "user_tz": -540
    },
    "id": "JwHJs58zQPDS",
    "outputId": "30f7fb0e-935e-4b6b-8fc4-6517b6854598"
   },
   "outputs": [
    {
     "data": {
      "text/plain": [
       "[1, 3, 5, 7, 11]"
      ]
     },
     "execution_count": 5,
     "metadata": {},
     "output_type": "execute_result"
    }
   ],
   "source": [
    "prime_numbers = [1,3,5,7,11]\n",
    "prime_numbers"
   ]
  },
  {
   "cell_type": "markdown",
   "metadata": {
    "id": "Ne6PFLFhQPDW"
   },
   "source": [
    "* 리스트의 특정 값을 불러올 때는 변수명[1]과 같이 불러옵니다. \n",
    "* 주의할 점은 첫번째 값이 0부터 시작한다는 것입니다"
   ]
  },
  {
   "cell_type": "code",
   "execution_count": 6,
   "metadata": {
    "colab": {
     "base_uri": "https://localhost:8080/"
    },
    "executionInfo": {
     "elapsed": 401,
     "status": "ok",
     "timestamp": 1644136429504,
     "user": {
      "displayName": "Jooho Shin",
      "photoUrl": "https://lh3.googleusercontent.com/a/default-user=s64",
      "userId": "16439599331136410701"
     },
     "user_tz": -540
    },
    "id": "Cw19IuePQPDX",
    "outputId": "68a6442a-f78c-4c26-a53a-a992f3ea15b7"
   },
   "outputs": [
    {
     "data": {
      "text/plain": [
       "3"
      ]
     },
     "execution_count": 6,
     "metadata": {},
     "output_type": "execute_result"
    }
   ],
   "source": [
    "prime_numbers[1]"
   ]
  },
  {
   "cell_type": "code",
   "execution_count": 7,
   "metadata": {
    "colab": {
     "base_uri": "https://localhost:8080/"
    },
    "executionInfo": {
     "elapsed": 405,
     "status": "ok",
     "timestamp": 1644136438302,
     "user": {
      "displayName": "Jooho Shin",
      "photoUrl": "https://lh3.googleusercontent.com/a/default-user=s64",
      "userId": "16439599331136410701"
     },
     "user_tz": -540
    },
    "id": "7lWzgTxVQPDa",
    "outputId": "d8e4ec29-0681-47d4-fe1b-3d012fe88c48"
   },
   "outputs": [
    {
     "data": {
      "text/plain": [
       "1"
      ]
     },
     "execution_count": 7,
     "metadata": {},
     "output_type": "execute_result"
    }
   ],
   "source": [
    "prime_numbers[0]"
   ]
  },
  {
   "cell_type": "markdown",
   "metadata": {
    "id": "qASmSP8bQPDd"
   },
   "source": [
    "* 마지막 항목은 -1입니다. 뒤에서 두번째 항목은 -2입니다."
   ]
  },
  {
   "cell_type": "code",
   "execution_count": 8,
   "metadata": {
    "colab": {
     "base_uri": "https://localhost:8080/"
    },
    "executionInfo": {
     "elapsed": 422,
     "status": "ok",
     "timestamp": 1644136466760,
     "user": {
      "displayName": "Jooho Shin",
      "photoUrl": "https://lh3.googleusercontent.com/a/default-user=s64",
      "userId": "16439599331136410701"
     },
     "user_tz": -540
    },
    "id": "mioji-M6QPDe",
    "outputId": "ef9df4ff-270f-4e0f-ed45-d10a14d8ed65"
   },
   "outputs": [
    {
     "data": {
      "text/plain": [
       "11"
      ]
     },
     "execution_count": 8,
     "metadata": {},
     "output_type": "execute_result"
    }
   ],
   "source": [
    "prime_numbers[-1]"
   ]
  },
  {
   "cell_type": "markdown",
   "metadata": {
    "id": "u-c4fPzDQPDh"
   },
   "source": [
    "* 항목추가하기: .append()"
   ]
  },
  {
   "cell_type": "code",
   "execution_count": 10,
   "metadata": {
    "colab": {
     "base_uri": "https://localhost:8080/"
    },
    "executionInfo": {
     "elapsed": 394,
     "status": "ok",
     "timestamp": 1644136489620,
     "user": {
      "displayName": "Jooho Shin",
      "photoUrl": "https://lh3.googleusercontent.com/a/default-user=s64",
      "userId": "16439599331136410701"
     },
     "user_tz": -540
    },
    "id": "9DfUS4rkQPDi",
    "outputId": "ab2c5f79-8483-4577-917c-667dedb2bae1"
   },
   "outputs": [
    {
     "data": {
      "text/plain": [
       "[1, 3, 5, 7, 11, 13, 13]"
      ]
     },
     "execution_count": 10,
     "metadata": {},
     "output_type": "execute_result"
    }
   ],
   "source": [
    "prime_numbers.append(13)\n",
    "prime_numbers"
   ]
  },
  {
   "cell_type": "markdown",
   "metadata": {
    "id": "V1JpvIOoQPDm"
   },
   "source": [
    "* 항목 삭제하기: del을 사용하여 변수를 삭제하거나, 특정 값을 삭제할 수 있습니다. "
   ]
  },
  {
   "cell_type": "code",
   "execution_count": 11,
   "metadata": {
    "colab": {
     "base_uri": "https://localhost:8080/"
    },
    "executionInfo": {
     "elapsed": 398,
     "status": "ok",
     "timestamp": 1644136507733,
     "user": {
      "displayName": "Jooho Shin",
      "photoUrl": "https://lh3.googleusercontent.com/a/default-user=s64",
      "userId": "16439599331136410701"
     },
     "user_tz": -540
    },
    "id": "jpP4X0TCQPDm",
    "outputId": "133c477f-6cc8-410c-ab7a-05c4cb42fdf0"
   },
   "outputs": [
    {
     "data": {
      "text/plain": [
       "[3, 5, 7, 11, 13, 13]"
      ]
     },
     "execution_count": 11,
     "metadata": {},
     "output_type": "execute_result"
    }
   ],
   "source": [
    "del prime_numbers[0]\n",
    "prime_numbers"
   ]
  },
  {
   "cell_type": "code",
   "execution_count": 12,
   "metadata": {
    "colab": {
     "base_uri": "https://localhost:8080/",
     "height": 209
    },
    "executionInfo": {
     "elapsed": 391,
     "status": "error",
     "timestamp": 1644136519120,
     "user": {
      "displayName": "Jooho Shin",
      "photoUrl": "https://lh3.googleusercontent.com/a/default-user=s64",
      "userId": "16439599331136410701"
     },
     "user_tz": -540
    },
    "id": "OIMuJ7eMQPDp",
    "outputId": "78bbd477-b4f4-4374-f35e-ddf2768a703f"
   },
   "outputs": [
    {
     "ename": "NameError",
     "evalue": "ignored",
     "output_type": "error",
     "traceback": [
      "\u001b[0;31m---------------------------------------------------------------------------\u001b[0m",
      "\u001b[0;31mNameError\u001b[0m                                 Traceback (most recent call last)",
      "\u001b[0;32m<ipython-input-12-6eb33dc5e631>\u001b[0m in \u001b[0;36m<module>\u001b[0;34m()\u001b[0m\n\u001b[1;32m      2\u001b[0m \u001b[0;34m\u001b[0m\u001b[0m\n\u001b[1;32m      3\u001b[0m \u001b[0;32mdel\u001b[0m \u001b[0mprime_numbers\u001b[0m\u001b[0;34m\u001b[0m\u001b[0;34m\u001b[0m\u001b[0m\n\u001b[0;32m----> 4\u001b[0;31m \u001b[0mprime_numbers\u001b[0m\u001b[0;34m\u001b[0m\u001b[0;34m\u001b[0m\u001b[0m\n\u001b[0m",
      "\u001b[0;31mNameError\u001b[0m: name 'prime_numbers' is not defined"
     ]
    }
   ],
   "source": [
    "# 변수 삭제하면 오류가 발생하는 것을 보여줍니다. \n",
    "\n",
    "del prime_numbers\n",
    "prime_numbers"
   ]
  },
  {
   "cell_type": "markdown",
   "metadata": {
    "id": "tWt2-wY9QPDt"
   },
   "source": [
    "* 리스트에는 여러 데이터 타입을 저장할 수 있습니다. \n",
    "* 리스트 안에 리스트 저장도 됩니다."
   ]
  },
  {
   "cell_type": "code",
   "execution_count": 13,
   "metadata": {
    "executionInfo": {
     "elapsed": 407,
     "status": "ok",
     "timestamp": 1644136562023,
     "user": {
      "displayName": "Jooho Shin",
      "photoUrl": "https://lh3.googleusercontent.com/a/default-user=s64",
      "userId": "16439599331136410701"
     },
     "user_tz": -540
    },
    "id": "Cponf3K8QPDt"
   },
   "outputs": [],
   "source": [
    "mixed_list=[1,2,'파이썬', True, [3,4,5]]"
   ]
  },
  {
   "cell_type": "code",
   "execution_count": 14,
   "metadata": {
    "colab": {
     "base_uri": "https://localhost:8080/"
    },
    "executionInfo": {
     "elapsed": 382,
     "status": "ok",
     "timestamp": 1644136575310,
     "user": {
      "displayName": "Jooho Shin",
      "photoUrl": "https://lh3.googleusercontent.com/a/default-user=s64",
      "userId": "16439599331136410701"
     },
     "user_tz": -540
    },
    "id": "4ZptalemQPDw",
    "outputId": "ddb11dbe-d85c-4a71-8536-9b5f50a49648"
   },
   "outputs": [
    {
     "data": {
      "text/plain": [
       "[1, 2, '파이썬', True, [3, 4, 5]]"
      ]
     },
     "execution_count": 14,
     "metadata": {},
     "output_type": "execute_result"
    }
   ],
   "source": [
    "mixed_list"
   ]
  },
  {
   "cell_type": "code",
   "execution_count": 15,
   "metadata": {
    "colab": {
     "base_uri": "https://localhost:8080/"
    },
    "executionInfo": {
     "elapsed": 394,
     "status": "ok",
     "timestamp": 1644136587275,
     "user": {
      "displayName": "Jooho Shin",
      "photoUrl": "https://lh3.googleusercontent.com/a/default-user=s64",
      "userId": "16439599331136410701"
     },
     "user_tz": -540
    },
    "id": "IgfoAU4yQPDz",
    "outputId": "ebb41008-765e-497a-c6f0-0735729ef40b"
   },
   "outputs": [
    {
     "data": {
      "text/plain": [
       "[3, 4, 5]"
      ]
     },
     "execution_count": 15,
     "metadata": {},
     "output_type": "execute_result"
    }
   ],
   "source": [
    "mixed_list[4]"
   ]
  },
  {
   "cell_type": "code",
   "execution_count": 16,
   "metadata": {
    "colab": {
     "base_uri": "https://localhost:8080/"
    },
    "executionInfo": {
     "elapsed": 464,
     "status": "ok",
     "timestamp": 1644136601253,
     "user": {
      "displayName": "Jooho Shin",
      "photoUrl": "https://lh3.googleusercontent.com/a/default-user=s64",
      "userId": "16439599331136410701"
     },
     "user_tz": -540
    },
    "id": "9n-QURsmQPD3",
    "outputId": "0acb52a1-eb7b-4b82-90f5-05aa5183f871"
   },
   "outputs": [
    {
     "data": {
      "text/plain": [
       "5"
      ]
     },
     "execution_count": 16,
     "metadata": {},
     "output_type": "execute_result"
    }
   ],
   "source": [
    "mixed_list[4][2]"
   ]
  },
  {
   "cell_type": "markdown",
   "metadata": {
    "id": "sTc3HcPlQPD5"
   },
   "source": [
    "* 항목의 개수 확인은 len()을 사용합니다. "
   ]
  },
  {
   "cell_type": "code",
   "execution_count": 17,
   "metadata": {
    "colab": {
     "base_uri": "https://localhost:8080/"
    },
    "executionInfo": {
     "elapsed": 402,
     "status": "ok",
     "timestamp": 1644136609450,
     "user": {
      "displayName": "Jooho Shin",
      "photoUrl": "https://lh3.googleusercontent.com/a/default-user=s64",
      "userId": "16439599331136410701"
     },
     "user_tz": -540
    },
    "id": "yXg_tVesQPD6",
    "outputId": "26b49ee9-5122-426b-fd2d-a709c3080300"
   },
   "outputs": [
    {
     "data": {
      "text/plain": [
       "5"
      ]
     },
     "execution_count": 17,
     "metadata": {},
     "output_type": "execute_result"
    }
   ],
   "source": [
    "len(mixed_list)"
   ]
  },
  {
   "cell_type": "markdown",
   "metadata": {
    "id": "OLBtnwYLQPD9"
   },
   "source": [
    "* 오름차순 정렬은 sort, 내림차순은 reverse를 사용합니다"
   ]
  },
  {
   "cell_type": "code",
   "execution_count": 18,
   "metadata": {
    "executionInfo": {
     "elapsed": 388,
     "status": "ok",
     "timestamp": 1644136621916,
     "user": {
      "displayName": "Jooho Shin",
      "photoUrl": "https://lh3.googleusercontent.com/a/default-user=s64",
      "userId": "16439599331136410701"
     },
     "user_tz": -540
    },
    "id": "bUZ7_JKbQPD-"
   },
   "outputs": [],
   "source": [
    "list1 = [3,5,10,-1]"
   ]
  },
  {
   "cell_type": "code",
   "execution_count": 19,
   "metadata": {
    "colab": {
     "base_uri": "https://localhost:8080/"
    },
    "executionInfo": {
     "elapsed": 409,
     "status": "ok",
     "timestamp": 1644136624190,
     "user": {
      "displayName": "Jooho Shin",
      "photoUrl": "https://lh3.googleusercontent.com/a/default-user=s64",
      "userId": "16439599331136410701"
     },
     "user_tz": -540
    },
    "id": "LnqCMjxuQPEA",
    "outputId": "355848cc-9819-4674-e28a-aa3bbf4be591"
   },
   "outputs": [
    {
     "data": {
      "text/plain": [
       "[-1, 3, 5, 10]"
      ]
     },
     "execution_count": 19,
     "metadata": {},
     "output_type": "execute_result"
    }
   ],
   "source": [
    "list1.sort()\n",
    "list1"
   ]
  },
  {
   "cell_type": "code",
   "execution_count": 20,
   "metadata": {
    "colab": {
     "base_uri": "https://localhost:8080/"
    },
    "executionInfo": {
     "elapsed": 4,
     "status": "ok",
     "timestamp": 1644136626407,
     "user": {
      "displayName": "Jooho Shin",
      "photoUrl": "https://lh3.googleusercontent.com/a/default-user=s64",
      "userId": "16439599331136410701"
     },
     "user_tz": -540
    },
    "id": "ZUN_PCtcQPED",
    "outputId": "32ddd204-a3e3-46cc-f58e-b48b5ff461bb"
   },
   "outputs": [
    {
     "data": {
      "text/plain": [
       "[10, 5, 3, -1]"
      ]
     },
     "execution_count": 20,
     "metadata": {},
     "output_type": "execute_result"
    }
   ],
   "source": [
    "list1.reverse()\n",
    "list1"
   ]
  },
  {
   "cell_type": "markdown",
   "metadata": {
    "id": "f3IMkEiJQPEG"
   },
   "source": [
    "# 활용: 메모장 예제"
   ]
  },
  {
   "cell_type": "code",
   "execution_count": 21,
   "metadata": {
    "colab": {
     "base_uri": "https://localhost:8080/"
    },
    "executionInfo": {
     "elapsed": 17224,
     "status": "ok",
     "timestamp": 1644136691122,
     "user": {
      "displayName": "Jooho Shin",
      "photoUrl": "https://lh3.googleusercontent.com/a/default-user=s64",
      "userId": "16439599331136410701"
     },
     "user_tz": -540
    },
    "id": "oaNuc0TlQPEG",
    "outputId": "27a70e43-a864-4106-bcc9-3043db711688"
   },
   "outputs": [
    {
     "name": "stdout",
     "output_type": "stream",
     "text": [
      "0:종료, 1: 메모추가, 2:메모보기 >> 1\n",
      "메모를 입력하세요 >> asdfasdf\n",
      "0:종료, 1: 메모추가, 2:메모보기 >> 2\n",
      "['asdfasdf']\n",
      "0:종료, 1: 메모추가, 2:메모보기 >> 1\n",
      "메모를 입력하세요 >> asdfasdf\n",
      "0:종료, 1: 메모추가, 2:메모보기 >> 0\n"
     ]
    }
   ],
   "source": [
    "memo = [] #[] 안에 값이 없으면 빈 리스트가 생성됨\n",
    "\n",
    "for i in range(100): \n",
    "    menu = input('0:종료, 1: 메모추가, 2:메모보기 >> ')\n",
    "    if menu=='0':\n",
    "      break\n",
    "    elif menu=='1': \n",
    "        new_memo = input('메모를 입력하세요 >> ')\n",
    "        memo.append(new_memo)\n",
    "    elif menu=='2':        \n",
    "        print(memo)\n",
    "    else:\n",
    "        print('메뉴 번호를 잘못입력하였습니다. ')            \n"
   ]
  },
  {
   "cell_type": "code",
   "execution_count": null,
   "metadata": {
    "id": "V1FnXRinQPEJ"
   },
   "outputs": [],
   "source": []
  }
 ],
 "metadata": {
  "colab": {
   "collapsed_sections": [],
   "name": "2_5_List.ipynb",
   "provenance": []
  },
  "kernelspec": {
   "display_name": "Python 3 (ipykernel)",
   "language": "python",
   "name": "python3"
  },
  "language_info": {
   "codemirror_mode": {
    "name": "ipython",
    "version": 3
   },
   "file_extension": ".py",
   "mimetype": "text/x-python",
   "name": "python",
   "nbconvert_exporter": "python",
   "pygments_lexer": "ipython3",
   "version": "3.9.12"
  }
 },
 "nbformat": 4,
 "nbformat_minor": 1
}
