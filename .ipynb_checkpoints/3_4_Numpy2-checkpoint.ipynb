{
 "cells": [
  {
   "cell_type": "markdown",
   "metadata": {
    "id": "hl1m_GHM7mEJ"
   },
   "source": [
    "# 배열 자동 생성\n",
    "* random을 통해서 자동으로 생성가능함\n",
    "* randint(start, end, size = (row size, column size)) 형태로 사용 (end는 포함되지 않음)"
   ]
  },
  {
   "cell_type": "code",
   "execution_count": 2,
   "metadata": {
    "executionInfo": {
     "elapsed": 5,
     "status": "ok",
     "timestamp": 1631254554380,
     "user": {
      "displayName": "Jooho Shin",
      "photoUrl": "https://lh3.googleusercontent.com/a/default-user=s64",
      "userId": "16439599331136410701"
     },
     "user_tz": -540
    },
    "id": "DTaWkS187mEK"
   },
   "outputs": [],
   "source": [
    "import numpy as np"
   ]
  },
  {
   "cell_type": "code",
   "execution_count": 3,
   "metadata": {
    "colab": {
     "base_uri": "https://localhost:8080/"
    },
    "executionInfo": {
     "elapsed": 474,
     "status": "ok",
     "timestamp": 1614861944800,
     "user": {
      "displayName": "Jooho Shin",
      "photoUrl": "",
      "userId": "16439599331136410701"
     },
     "user_tz": -540
    },
    "id": "AvK2vzub7mEN",
    "outputId": "c9793f9f-12fc-4622-bfd1-e98fd059729c"
   },
   "outputs": [
    {
     "name": "stdout",
     "output_type": "stream",
     "text": [
      "[[2 3 8]\n",
      " [0 0 7]]\n",
      "[9 6 2 8 1 3 6 2 6 6]\n"
     ]
    }
   ],
   "source": [
    "arr1 = np.random.randint(0,10, size=(2,3))\n",
    "print(arr1)\n",
    "\n",
    "arr2 = np.random.randint(0,10, size = 10)\n",
    "print(arr2)"
   ]
  },
  {
   "cell_type": "markdown",
   "metadata": {
    "id": "V-qYANcR7mEQ"
   },
   "source": [
    "* rand(row size, column size)는 0~1 사이의 값을 랜덤 선택 (1은 미포함)\n"
   ]
  },
  {
   "cell_type": "code",
   "execution_count": 4,
   "metadata": {
    "colab": {
     "base_uri": "https://localhost:8080/"
    },
    "executionInfo": {
     "elapsed": 633,
     "status": "ok",
     "timestamp": 1614861995343,
     "user": {
      "displayName": "Jooho Shin",
      "photoUrl": "",
      "userId": "16439599331136410701"
     },
     "user_tz": -540
    },
    "id": "QZ8owffg7mER",
    "outputId": "a1232f64-e603-4af2-dc5f-0eab0e4a0412"
   },
   "outputs": [
    {
     "name": "stdout",
     "output_type": "stream",
     "text": [
      "[[0.58997715 0.48382179 0.38987936]\n",
      " [0.48684552 0.24151221 0.73592286]\n",
      " [0.22839652 0.3167951  0.56311271]\n",
      " [0.12388528 0.80819399 0.99343468]\n",
      " [0.02500561 0.89829511 0.95874162]]\n"
     ]
    }
   ],
   "source": [
    "arr3 = np.random.rand(5,3)\n",
    "print(arr3)"
   ]
  },
  {
   "cell_type": "code",
   "execution_count": 5,
   "metadata": {
    "colab": {
     "base_uri": "https://localhost:8080/"
    },
    "executionInfo": {
     "elapsed": 643,
     "status": "ok",
     "timestamp": 1614862007152,
     "user": {
      "displayName": "Jooho Shin",
      "photoUrl": "",
      "userId": "16439599331136410701"
     },
     "user_tz": -540
    },
    "id": "yQT2kZVX7mEW",
    "outputId": "cd83ef1a-e1bf-4211-c0bb-05c63a4d4040"
   },
   "outputs": [
    {
     "name": "stdout",
     "output_type": "stream",
     "text": [
      "[[0.08998865 0.22831619 0.94775705]\n",
      " [0.33384668 0.95713122 0.2455618 ]\n",
      " [0.80428558 0.94752994 0.57226484]\n",
      " [0.20968071 0.5654188  0.43184288]\n",
      " [0.16252103 0.50677587 0.2276913 ]]\n"
     ]
    }
   ],
   "source": [
    "arr4 = np.random.rand(5,3)\n",
    "print(arr4)"
   ]
  },
  {
   "cell_type": "markdown",
   "metadata": {
    "id": "z5AZUifD7mEY"
   },
   "source": [
    "* 그 외에도 여러가지 행렬 연산 기능이 있음\n",
    "* https://www.bogotobogo.com/python/python_numpy_matrix_tutorial.php"
   ]
  },
  {
   "cell_type": "markdown",
   "metadata": {
    "id": "5ctMD3kj7mEY"
   },
   "source": [
    "##### 주요 통계값\n",
    "* 리스트와 마찬가지로 min(), count() 등 되며\n",
    "* 평균 및 표준편차도 쉽게 구할 수 있다 mean(), std() "
   ]
  },
  {
   "cell_type": "code",
   "execution_count": null,
   "metadata": {
    "colab": {
     "base_uri": "https://localhost:8080/"
    },
    "executionInfo": {
     "elapsed": 640,
     "status": "ok",
     "timestamp": 1614862078021,
     "user": {
      "displayName": "Jooho Shin",
      "photoUrl": "",
      "userId": "16439599331136410701"
     },
     "user_tz": -540
    },
    "id": "ZRFj0k7Y7mEZ",
    "outputId": "41b73276-45bb-4f96-ee40-23ac3f37d737"
   },
   "outputs": [
    {
     "name": "stdout",
     "output_type": "stream",
     "text": [
      "6.217198694023214\n",
      "0.012931116075698523\n",
      "0.781956550090538\n",
      "0.4144799129348809\n",
      "0.2686521669848678\n",
      "0.0721739868256653\n"
     ]
    }
   ],
   "source": [
    "print(arr4.sum())\n",
    "print(arr4.min())\n",
    "print(arr4.max())\n",
    "print(arr4.mean()) # 평균\n",
    "print(arr4.std()) # 표준편차\n",
    "print(arr4.var()) # 분산\n"
   ]
  },
  {
   "cell_type": "markdown",
   "metadata": {
    "id": "Rl4j2f7y7mEb"
   },
   "source": [
    "##### 특정 범위 가져오기\n",
    "* arr[start:end:step]으로 특정 범위 데이터를 가져올 수 있다\n",
    "  (end 는 미포함)\n",
    "* 리스트와 동일함"
   ]
  },
  {
   "cell_type": "code",
   "execution_count": 2,
   "metadata": {
    "colab": {
     "base_uri": "https://localhost:8080/"
    },
    "executionInfo": {
     "elapsed": 441,
     "status": "ok",
     "timestamp": 1631254721585,
     "user": {
      "displayName": "Jooho Shin",
      "photoUrl": "https://lh3.googleusercontent.com/a/default-user=s64",
      "userId": "16439599331136410701"
     },
     "user_tz": -540
    },
    "id": "DhT9SrDM7mEc",
    "outputId": "f2118638-1d78-48b7-d945-6383bf69a49a"
   },
   "outputs": [
    {
     "name": "stdout",
     "output_type": "stream",
     "text": [
      "[0 5 8 0 1 4 0 8 1 6]\n"
     ]
    }
   ],
   "source": [
    "arr5 = np.random.randint(10, size = 10)\n",
    "print(arr5)"
   ]
  },
  {
   "cell_type": "code",
   "execution_count": null,
   "metadata": {
    "colab": {
     "base_uri": "https://localhost:8080/"
    },
    "executionInfo": {
     "elapsed": 647,
     "status": "ok",
     "timestamp": 1614862176162,
     "user": {
      "displayName": "Jooho Shin",
      "photoUrl": "",
      "userId": "16439599331136410701"
     },
     "user_tz": -540
    },
    "id": "bN5HGCvi7mEf",
    "outputId": "3ec2b0bc-fd86-4182-cc12-cd5b50f89d2b"
   },
   "outputs": [
    {
     "data": {
      "text/plain": [
       "array([0, 0, 5, 6, 1])"
      ]
     },
     "execution_count": 7,
     "metadata": {
      "tags": []
     },
     "output_type": "execute_result"
    }
   ],
   "source": [
    "arr5[:5] "
   ]
  },
  {
   "cell_type": "code",
   "execution_count": null,
   "metadata": {
    "colab": {
     "base_uri": "https://localhost:8080/"
    },
    "executionInfo": {
     "elapsed": 629,
     "status": "ok",
     "timestamp": 1614862190487,
     "user": {
      "displayName": "Jooho Shin",
      "photoUrl": "",
      "userId": "16439599331136410701"
     },
     "user_tz": -540
    },
    "id": "OD-Y9MfH7mEi",
    "outputId": "d694ceb2-4bbd-4cc2-8402-51a2f9edc0de"
   },
   "outputs": [
    {
     "data": {
      "text/plain": [
       "array([0, 5])"
      ]
     },
     "execution_count": 8,
     "metadata": {
      "tags": []
     },
     "output_type": "execute_result"
    }
   ],
   "source": [
    "arr5[1:3]"
   ]
  },
  {
   "cell_type": "code",
   "execution_count": 3,
   "metadata": {
    "colab": {
     "base_uri": "https://localhost:8080/"
    },
    "executionInfo": {
     "elapsed": 391,
     "status": "ok",
     "timestamp": 1631254800075,
     "user": {
      "displayName": "Jooho Shin",
      "photoUrl": "https://lh3.googleusercontent.com/a/default-user=s64",
      "userId": "16439599331136410701"
     },
     "user_tz": -540
    },
    "id": "1SkSn9vR7mEk",
    "outputId": "284fa099-82b1-46cb-bfc2-af45a11ea00b"
   },
   "outputs": [
    {
     "data": {
      "text/plain": [
       "array([4, 0, 8, 1, 6])"
      ]
     },
     "execution_count": 3,
     "metadata": {},
     "output_type": "execute_result"
    }
   ],
   "source": [
    "arr5[5:] "
   ]
  },
  {
   "cell_type": "code",
   "execution_count": 4,
   "metadata": {
    "colab": {
     "base_uri": "https://localhost:8080/"
    },
    "executionInfo": {
     "elapsed": 449,
     "status": "ok",
     "timestamp": 1631254820219,
     "user": {
      "displayName": "Jooho Shin",
      "photoUrl": "https://lh3.googleusercontent.com/a/default-user=s64",
      "userId": "16439599331136410701"
     },
     "user_tz": -540
    },
    "id": "YVE756XhXOKr",
    "outputId": "39f963e4-3e1d-4648-ee09-6e04204c6cc0"
   },
   "outputs": [
    {
     "data": {
      "text/plain": [
       "array([0, 5, 8, 0, 1, 4, 0, 8, 1, 6])"
      ]
     },
     "execution_count": 4,
     "metadata": {},
     "output_type": "execute_result"
    }
   ],
   "source": [
    "arr5[:] "
   ]
  },
  {
   "cell_type": "code",
   "execution_count": null,
   "metadata": {
    "id": "rTvuCDTmXTA7"
   },
   "outputs": [],
   "source": []
  }
 ],
 "metadata": {
  "colab": {
   "collapsed_sections": [],
   "name": "3_2_Numpy2.ipynb",
   "provenance": []
  },
  "kernelspec": {
   "display_name": "Python 3 (ipykernel)",
   "language": "python",
   "name": "python3"
  },
  "language_info": {
   "codemirror_mode": {
    "name": "ipython",
    "version": 3
   },
   "file_extension": ".py",
   "mimetype": "text/x-python",
   "name": "python",
   "nbconvert_exporter": "python",
   "pygments_lexer": "ipython3",
   "version": "3.9.12"
  }
 },
 "nbformat": 4,
 "nbformat_minor": 1
}
