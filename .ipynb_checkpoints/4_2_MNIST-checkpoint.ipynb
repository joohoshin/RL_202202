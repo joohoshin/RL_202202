{
 "cells": [
  {
   "cell_type": "markdown",
   "metadata": {
    "id": "ISFXKv-1PmXG"
   },
   "source": [
    "### 숫자인식은 딥러닝의 가장 기초적인 예제입니다. \n",
    "\n",
    "아래의 텐서플로우 공식싸이트의 예제를 참고하세요\n",
    "\n",
    "https://www.tensorflow.org/tutorials/quickstart/beginner\n",
    "\n"
   ]
  },
  {
   "cell_type": "markdown",
   "metadata": {
    "id": "93ndipT_PgN_"
   },
   "source": [
    "1. 라이브러리 불러오기"
   ]
  },
  {
   "cell_type": "code",
   "execution_count": 1,
   "metadata": {
    "executionInfo": {
     "elapsed": 3642,
     "status": "ok",
     "timestamp": 1647822067514,
     "user": {
      "displayName": "Jooho Shin",
      "photoUrl": "https://lh3.googleusercontent.com/a/default-user=s64",
      "userId": "16439599331136410701"
     },
     "user_tz": -540
    },
    "id": "WonmERHQP0AI"
   },
   "outputs": [],
   "source": [
    "import tensorflow as tf"
   ]
  },
  {
   "cell_type": "markdown",
   "metadata": {
    "id": "QwmykIxMPkRQ"
   },
   "source": [
    "2. 데이터 불러오기"
   ]
  },
  {
   "cell_type": "code",
   "execution_count": 2,
   "metadata": {
    "colab": {
     "base_uri": "https://localhost:8080/"
    },
    "executionInfo": {
     "elapsed": 26,
     "status": "ok",
     "timestamp": 1647822067515,
     "user": {
      "displayName": "Jooho Shin",
      "photoUrl": "https://lh3.googleusercontent.com/a/default-user=s64",
      "userId": "16439599331136410701"
     },
     "user_tz": -540
    },
    "id": "1dTeOF_kP_5F",
    "outputId": "3c3aa9c7-de57-400b-82fc-de82cfb79352"
   },
   "outputs": [
    {
     "name": "stdout",
     "output_type": "stream",
     "text": [
      "Downloading data from https://storage.googleapis.com/tensorflow/tf-keras-datasets/mnist.npz\n",
      "11493376/11490434 [==============================] - 0s 0us/step\n",
      "11501568/11490434 [==============================] - 0s 0us/step\n"
     ]
    }
   ],
   "source": [
    "# 데이터 불러오기\n",
    "mnist = tf.keras.datasets.mnist   # 학습할 수 있는 주요 데이터셋은 텐서플로우에서 제공하고 있음\n",
    "\n",
    "(x_train, y_train), (x_test, y_test) = mnist.load_data()\n",
    "\n"
   ]
  },
  {
   "cell_type": "code",
   "execution_count": 3,
   "metadata": {
    "colab": {
     "base_uri": "https://localhost:8080/"
    },
    "executionInfo": {
     "elapsed": 408,
     "status": "ok",
     "timestamp": 1647822091438,
     "user": {
      "displayName": "Jooho Shin",
      "photoUrl": "https://lh3.googleusercontent.com/a/default-user=s64",
      "userId": "16439599331136410701"
     },
     "user_tz": -540
    },
    "id": "QxN0v4o7oftE",
    "outputId": "9e992dcb-6318-4858-e9f8-313b028f1609"
   },
   "outputs": [
    {
     "data": {
      "text/plain": [
       "numpy.ndarray"
      ]
     },
     "execution_count": 3,
     "metadata": {},
     "output_type": "execute_result"
    }
   ],
   "source": [
    "type(x_train)"
   ]
  },
  {
   "cell_type": "code",
   "execution_count": 4,
   "metadata": {
    "colab": {
     "base_uri": "https://localhost:8080/"
    },
    "executionInfo": {
     "elapsed": 390,
     "status": "ok",
     "timestamp": 1647822111679,
     "user": {
      "displayName": "Jooho Shin",
      "photoUrl": "https://lh3.googleusercontent.com/a/default-user=s64",
      "userId": "16439599331136410701"
     },
     "user_tz": -540
    },
    "id": "V1cNK7KUonWD",
    "outputId": "26124745-f1be-437f-8620-e4226c868adf"
   },
   "outputs": [
    {
     "data": {
      "text/plain": [
       "(60000, 28, 28)"
      ]
     },
     "execution_count": 4,
     "metadata": {},
     "output_type": "execute_result"
    }
   ],
   "source": [
    "x_train.shape"
   ]
  },
  {
   "cell_type": "code",
   "execution_count": 5,
   "metadata": {
    "executionInfo": {
     "elapsed": 409,
     "status": "ok",
     "timestamp": 1647822164809,
     "user": {
      "displayName": "Jooho Shin",
      "photoUrl": "https://lh3.googleusercontent.com/a/default-user=s64",
      "userId": "16439599331136410701"
     },
     "user_tz": -540
    },
    "id": "6IBLYOefou9p"
   },
   "outputs": [],
   "source": [
    "import matplotlib.pyplot as plt\n"
   ]
  },
  {
   "cell_type": "code",
   "execution_count": 6,
   "metadata": {
    "executionInfo": {
     "elapsed": 389,
     "status": "ok",
     "timestamp": 1647822173402,
     "user": {
      "displayName": "Jooho Shin",
      "photoUrl": "https://lh3.googleusercontent.com/a/default-user=s64",
      "userId": "16439599331136410701"
     },
     "user_tz": -540
    },
    "id": "8qJSA5x7o8jJ"
   },
   "outputs": [],
   "source": [
    "img = x_train[0]"
   ]
  },
  {
   "cell_type": "code",
   "execution_count": 7,
   "metadata": {
    "colab": {
     "base_uri": "https://localhost:8080/",
     "height": 283
    },
    "executionInfo": {
     "elapsed": 467,
     "status": "ok",
     "timestamp": 1647822185168,
     "user": {
      "displayName": "Jooho Shin",
      "photoUrl": "https://lh3.googleusercontent.com/a/default-user=s64",
      "userId": "16439599331136410701"
     },
     "user_tz": -540
    },
    "id": "48b0R--upC_q",
    "outputId": "acfb2718-4b40-4d9e-bbe2-a5e5b727ab29"
   },
   "outputs": [
    {
     "data": {
      "text/plain": [
       "<matplotlib.image.AxesImage at 0x7ff3bcc32850>"
      ]
     },
     "execution_count": 7,
     "metadata": {},
     "output_type": "execute_result"
    },
    {
     "data": {
      "image/png": "[encoded data removed]",
      "text/plain": [
       "<Figure size 432x288 with 1 Axes>"
      ]
     },
     "metadata": {
      "needs_background": "light"
     },
     "output_type": "display_data"
    }
   ],
   "source": [
    "plt.imshow(img, cmap = 'gray')"
   ]
  },
  {
   "cell_type": "code",
   "execution_count": 9,
   "metadata": {
    "colab": {
     "base_uri": "https://localhost:8080/"
    },
    "executionInfo": {
     "elapsed": 386,
     "status": "ok",
     "timestamp": 1647822215773,
     "user": {
      "displayName": "Jooho Shin",
      "photoUrl": "https://lh3.googleusercontent.com/a/default-user=s64",
      "userId": "16439599331136410701"
     },
     "user_tz": -540
    },
    "id": "10fnA_BxpNS-",
    "outputId": "2b804638-9eab-4f9e-90bb-b52267dbdb84"
   },
   "outputs": [
    {
     "data": {
      "text/plain": [
       "array([[  0,   0,   0,   0,   0,   0,   0,   0,   0,   0,   0,   0,   0,\n",
       "          0,   0,   0,   0,   0,   0,   0,   0,   0,   0,   0,   0,   0,\n",
       "          0,   0],\n",
       "       [  0,   0,   0,   0,   0,   0,   0,   0,   0,   0,   0,   0,   0,\n",
       "          0,   0,   0,   0,   0,   0,   0,   0,   0,   0,   0,   0,   0,\n",
       "          0,   0],\n",
       "       [  0,   0,   0,   0,   0,   0,   0,   0,   0,   0,   0,   0,   0,\n",
       "          0,   0,   0,   0,   0,   0,   0,   0,   0,   0,   0,   0,   0,\n",
       "          0,   0],\n",
       "       [  0,   0,   0,   0,   0,   0,   0,   0,   0,   0,   0,   0,   0,\n",
       "          0,   0,   0,   0,   0,   0,   0,   0,   0,   0,   0,   0,   0,\n",
       "          0,   0],\n",
       "       [  0,   0,   0,   0,   0,   0,   0,   0,   0,   0,   0,   0,   0,\n",
       "          0,   0,   0,   0,   0,   0,   0,   0,   0,   0,   0,   0,   0,\n",
       "          0,   0],\n",
       "       [  0,   0,   0,   0,   0,   0,   0,   0,   0,   0,   0,   0,   3,\n",
       "         18,  18,  18, 126, 136, 175,  26, 166, 255, 247, 127,   0,   0,\n",
       "          0,   0],\n",
       "       [  0,   0,   0,   0,   0,   0,   0,   0,  30,  36,  94, 154, 170,\n",
       "        253, 253, 253, 253, 253, 225, 172, 253, 242, 195,  64,   0,   0,\n",
       "          0,   0],\n",
       "       [  0,   0,   0,   0,   0,   0,   0,  49, 238, 253, 253, 253, 253,\n",
       "        253, 253, 253, 253, 251,  93,  82,  82,  56,  39,   0,   0,   0,\n",
       "          0,   0],\n",
       "       [  0,   0,   0,   0,   0,   0,   0,  18, 219, 253, 253, 253, 253,\n",
       "        253, 198, 182, 247, 241,   0,   0,   0,   0,   0,   0,   0,   0,\n",
       "          0,   0],\n",
       "       [  0,   0,   0,   0,   0,   0,   0,   0,  80, 156, 107, 253, 253,\n",
       "        205,  11,   0,  43, 154,   0,   0,   0,   0,   0,   0,   0,   0,\n",
       "          0,   0],\n",
       "       [  0,   0,   0,   0,   0,   0,   0,   0,   0,  14,   1, 154, 253,\n",
       "         90,   0,   0,   0,   0,   0,   0,   0,   0,   0,   0,   0,   0,\n",
       "          0,   0],\n",
       "       [  0,   0,   0,   0,   0,   0,   0,   0,   0,   0,   0, 139, 253,\n",
       "        190,   2,   0,   0,   0,   0,   0,   0,   0,   0,   0,   0,   0,\n",
       "          0,   0],\n",
       "       [  0,   0,   0,   0,   0,   0,   0,   0,   0,   0,   0,  11, 190,\n",
       "        253,  70,   0,   0,   0,   0,   0,   0,   0,   0,   0,   0,   0,\n",
       "          0,   0],\n",
       "       [  0,   0,   0,   0,   0,   0,   0,   0,   0,   0,   0,   0,  35,\n",
       "        241, 225, 160, 108,   1,   0,   0,   0,   0,   0,   0,   0,   0,\n",
       "          0,   0],\n",
       "       [  0,   0,   0,   0,   0,   0,   0,   0,   0,   0,   0,   0,   0,\n",
       "         81, 240, 253, 253, 119,  25,   0,   0,   0,   0,   0,   0,   0,\n",
       "          0,   0],\n",
       "       [  0,   0,   0,   0,   0,   0,   0,   0,   0,   0,   0,   0,   0,\n",
       "          0,  45, 186, 253, 253, 150,  27,   0,   0,   0,   0,   0,   0,\n",
       "          0,   0],\n",
       "       [  0,   0,   0,   0,   0,   0,   0,   0,   0,   0,   0,   0,   0,\n",
       "          0,   0,  16,  93, 252, 253, 187,   0,   0,   0,   0,   0,   0,\n",
       "          0,   0],\n",
       "       [  0,   0,   0,   0,   0,   0,   0,   0,   0,   0,   0,   0,   0,\n",
       "          0,   0,   0,   0, 249, 253, 249,  64,   0,   0,   0,   0,   0,\n",
       "          0,   0],\n",
       "       [  0,   0,   0,   0,   0,   0,   0,   0,   0,   0,   0,   0,   0,\n",
       "          0,  46, 130, 183, 253, 253, 207,   2,   0,   0,   0,   0,   0,\n",
       "          0,   0],\n",
       "       [  0,   0,   0,   0,   0,   0,   0,   0,   0,   0,   0,   0,  39,\n",
       "        148, 229, 253, 253, 253, 250, 182,   0,   0,   0,   0,   0,   0,\n",
       "          0,   0],\n",
       "       [  0,   0,   0,   0,   0,   0,   0,   0,   0,   0,  24, 114, 221,\n",
       "        253, 253, 253, 253, 201,  78,   0,   0,   0,   0,   0,   0,   0,\n",
       "          0,   0],\n",
       "       [  0,   0,   0,   0,   0,   0,   0,   0,  23,  66, 213, 253, 253,\n",
       "        253, 253, 198,  81,   2,   0,   0,   0,   0,   0,   0,   0,   0,\n",
       "          0,   0],\n",
       "       [  0,   0,   0,   0,   0,   0,  18, 171, 219, 253, 253, 253, 253,\n",
       "        195,  80,   9,   0,   0,   0,   0,   0,   0,   0,   0,   0,   0,\n",
       "          0,   0],\n",
       "       [  0,   0,   0,   0,  55, 172, 226, 253, 253, 253, 253, 244, 133,\n",
       "         11,   0,   0,   0,   0,   0,   0,   0,   0,   0,   0,   0,   0,\n",
       "          0,   0],\n",
       "       [  0,   0,   0,   0, 136, 253, 253, 253, 212, 135, 132,  16,   0,\n",
       "          0,   0,   0,   0,   0,   0,   0,   0,   0,   0,   0,   0,   0,\n",
       "          0,   0],\n",
       "       [  0,   0,   0,   0,   0,   0,   0,   0,   0,   0,   0,   0,   0,\n",
       "          0,   0,   0,   0,   0,   0,   0,   0,   0,   0,   0,   0,   0,\n",
       "          0,   0],\n",
       "       [  0,   0,   0,   0,   0,   0,   0,   0,   0,   0,   0,   0,   0,\n",
       "          0,   0,   0,   0,   0,   0,   0,   0,   0,   0,   0,   0,   0,\n",
       "          0,   0],\n",
       "       [  0,   0,   0,   0,   0,   0,   0,   0,   0,   0,   0,   0,   0,\n",
       "          0,   0,   0,   0,   0,   0,   0,   0,   0,   0,   0,   0,   0,\n",
       "          0,   0]], dtype=uint8)"
      ]
     },
     "execution_count": 9,
     "metadata": {},
     "output_type": "execute_result"
    }
   ],
   "source": [
    "img"
   ]
  },
  {
   "cell_type": "markdown",
   "metadata": {
    "id": "euBzDWgyP0BM"
   },
   "source": [
    "3. 데이터 전처리"
   ]
  },
  {
   "cell_type": "code",
   "execution_count": 10,
   "metadata": {
    "executionInfo": {
     "elapsed": 404,
     "status": "ok",
     "timestamp": 1647822265414,
     "user": {
      "displayName": "Jooho Shin",
      "photoUrl": "https://lh3.googleusercontent.com/a/default-user=s64",
      "userId": "16439599331136410701"
     },
     "user_tz": -540
    },
    "id": "JbdzKU0xP4u4"
   },
   "outputs": [],
   "source": [
    "# 데이터 표준화: 이미지 파일은 컬러의 경우 RGB에 대해 각각 0~255 정수로 이루어진 배열임\n",
    "x_train, x_test = x_train / 255.0, x_test / 255.0"
   ]
  },
  {
   "cell_type": "code",
   "execution_count": null,
   "metadata": {
    "colab": {
     "base_uri": "https://localhost:8080/"
    },
    "executionInfo": {
     "elapsed": 258,
     "status": "ok",
     "timestamp": 1646436311310,
     "user": {
      "displayName": "Jooho Shin",
      "photoUrl": "https://lh3.googleusercontent.com/a/default-user=s64",
      "userId": "16439599331136410701"
     },
     "user_tz": -540
    },
    "id": "TOC4aOEpQD8T",
    "outputId": "f9b8f6aa-15e3-4359-ab0c-569db0b98710"
   },
   "outputs": [
    {
     "data": {
      "text/plain": [
       "numpy.ndarray"
      ]
     },
     "execution_count": 6,
     "metadata": {},
     "output_type": "execute_result"
    }
   ],
   "source": [
    "type(x_train)"
   ]
  },
  {
   "cell_type": "code",
   "execution_count": 11,
   "metadata": {
    "colab": {
     "base_uri": "https://localhost:8080/"
    },
    "executionInfo": {
     "elapsed": 376,
     "status": "ok",
     "timestamp": 1647822288979,
     "user": {
      "displayName": "Jooho Shin",
      "photoUrl": "https://lh3.googleusercontent.com/a/default-user=s64",
      "userId": "16439599331136410701"
     },
     "user_tz": -540
    },
    "id": "ogExd_QDQKRV",
    "outputId": "b40d0829-083a-4152-9c12-58fe53529bdc"
   },
   "outputs": [
    {
     "data": {
      "text/plain": [
       "(60000,)"
      ]
     },
     "execution_count": 11,
     "metadata": {},
     "output_type": "execute_result"
    }
   ],
   "source": [
    "y_train.shape"
   ]
  },
  {
   "cell_type": "code",
   "execution_count": 12,
   "metadata": {
    "colab": {
     "base_uri": "https://localhost:8080/"
    },
    "executionInfo": {
     "elapsed": 389,
     "status": "ok",
     "timestamp": 1647822297577,
     "user": {
      "displayName": "Jooho Shin",
      "photoUrl": "https://lh3.googleusercontent.com/a/default-user=s64",
      "userId": "16439599331136410701"
     },
     "user_tz": -540
    },
    "id": "hIUVgHvPpsqN",
    "outputId": "e09f02a7-9442-4905-fd97-de961ad385a1"
   },
   "outputs": [
    {
     "data": {
      "text/plain": [
       "5"
      ]
     },
     "execution_count": 12,
     "metadata": {},
     "output_type": "execute_result"
    }
   ],
   "source": [
    "y_train[0]"
   ]
  },
  {
   "cell_type": "code",
   "execution_count": 13,
   "metadata": {
    "colab": {
     "base_uri": "https://localhost:8080/"
    },
    "executionInfo": {
     "elapsed": 385,
     "status": "ok",
     "timestamp": 1647822312695,
     "user": {
      "displayName": "Jooho Shin",
      "photoUrl": "https://lh3.googleusercontent.com/a/default-user=s64",
      "userId": "16439599331136410701"
     },
     "user_tz": -540
    },
    "id": "cgu9NGTWQSse",
    "outputId": "6a5cfe96-a0b2-4ec3-91c9-c7596f4d8025"
   },
   "outputs": [
    {
     "data": {
      "text/plain": [
       "(10000, 28, 28)"
      ]
     },
     "execution_count": 13,
     "metadata": {},
     "output_type": "execute_result"
    }
   ],
   "source": [
    "x_test.shape"
   ]
  },
  {
   "cell_type": "code",
   "execution_count": 14,
   "metadata": {
    "colab": {
     "base_uri": "https://localhost:8080/"
    },
    "executionInfo": {
     "elapsed": 390,
     "status": "ok",
     "timestamp": 1647822321789,
     "user": {
      "displayName": "Jooho Shin",
      "photoUrl": "https://lh3.googleusercontent.com/a/default-user=s64",
      "userId": "16439599331136410701"
     },
     "user_tz": -540
    },
    "id": "Bnzi6qj8QVqk",
    "outputId": "d377039b-e046-46a4-e655-281e124db3eb"
   },
   "outputs": [
    {
     "data": {
      "text/plain": [
       "(10000,)"
      ]
     },
     "execution_count": 14,
     "metadata": {},
     "output_type": "execute_result"
    }
   ],
   "source": [
    "y_test.shape"
   ]
  },
  {
   "cell_type": "markdown",
   "metadata": {
    "id": "DhdS3OG6QIla"
   },
   "source": [
    "4. 모델 만들기"
   ]
  },
  {
   "cell_type": "code",
   "execution_count": 15,
   "metadata": {
    "executionInfo": {
     "elapsed": 3012,
     "status": "ok",
     "timestamp": 1647822501780,
     "user": {
      "displayName": "Jooho Shin",
      "photoUrl": "https://lh3.googleusercontent.com/a/default-user=s64",
      "userId": "16439599331136410701"
     },
     "user_tz": -540
    },
    "id": "S-7lHDMEQYXV"
   },
   "outputs": [],
   "source": [
    "# 간단한 모델 만들기\n",
    "# Sequential API를 활용하여 손쉽게 모델을 만들 수 있음\n",
    "\n",
    "model = tf.keras.models.Sequential([                # 함수의 입력값을 리스트로 여러개의 레이어를 넣은 것임\n",
    "  tf.keras.layers.Flatten(input_shape=(28, 28)),\n",
    "  tf.keras.layers.Dense(128, activation='relu'),\n",
    "  tf.keras.layers.Dropout(0.2),\n",
    "  tf.keras.layers.Dense(10, activation='softmax')\n",
    "])"
   ]
  },
  {
   "cell_type": "markdown",
   "metadata": {
    "id": "BT85-x29QVgi"
   },
   "source": [
    "5. 모델 컴파일"
   ]
  },
  {
   "cell_type": "code",
   "execution_count": 16,
   "metadata": {
    "executionInfo": {
     "elapsed": 413,
     "status": "ok",
     "timestamp": 1647822832600,
     "user": {
      "displayName": "Jooho Shin",
      "photoUrl": "https://lh3.googleusercontent.com/a/default-user=s64",
      "userId": "16439599331136410701"
     },
     "user_tz": -540
    },
    "id": "dgzLbTN5Qci2"
   },
   "outputs": [],
   "source": [
    "# 모델 컴파일하기: 학습과 관련된 설정\n",
    "model.compile(optimizer='adam',\n",
    "              loss='sparse_categorical_crossentropy',\n",
    "              metrics=['accuracy'])"
   ]
  },
  {
   "cell_type": "markdown",
   "metadata": {
    "id": "Mb1QkpUTQ2PL"
   },
   "source": [
    "6. 모델 학습"
   ]
  },
  {
   "cell_type": "code",
   "execution_count": 17,
   "metadata": {
    "colab": {
     "base_uri": "https://localhost:8080/"
    },
    "executionInfo": {
     "elapsed": 42187,
     "status": "ok",
     "timestamp": 1647822912579,
     "user": {
      "displayName": "Jooho Shin",
      "photoUrl": "https://lh3.googleusercontent.com/a/default-user=s64",
      "userId": "16439599331136410701"
     },
     "user_tz": -540
    },
    "id": "8iTeMzG-a4O0",
    "outputId": "31fd9883-1a6a-4e13-a15c-0b86f1dab643"
   },
   "outputs": [
    {
     "name": "stdout",
     "output_type": "stream",
     "text": [
      "Epoch 1/5\n",
      "1875/1875 [==============================] - 7s 3ms/step - loss: 0.2976 - accuracy: 0.9141\n",
      "Epoch 2/5\n",
      "1875/1875 [==============================] - 5s 3ms/step - loss: 0.1478 - accuracy: 0.9567\n",
      "Epoch 3/5\n",
      "1875/1875 [==============================] - 5s 3ms/step - loss: 0.1106 - accuracy: 0.9672\n",
      "Epoch 4/5\n",
      "1875/1875 [==============================] - 5s 3ms/step - loss: 0.0885 - accuracy: 0.9731\n",
      "Epoch 5/5\n",
      "1875/1875 [==============================] - 5s 3ms/step - loss: 0.0749 - accuracy: 0.9762\n"
     ]
    },
    {
     "data": {
      "text/plain": [
       "<keras.callbacks.History at 0x7ff3b04d9c50>"
      ]
     },
     "execution_count": 17,
     "metadata": {},
     "output_type": "execute_result"
    }
   ],
   "source": [
    "# 모델 학습\n",
    "model.fit(x_train, y_train, epochs=5)"
   ]
  },
  {
   "cell_type": "markdown",
   "metadata": {
    "id": "Nrq_VQ77Q6t3"
   },
   "source": [
    "7. 모델 평가"
   ]
  },
  {
   "cell_type": "code",
   "execution_count": 18,
   "metadata": {
    "colab": {
     "base_uri": "https://localhost:8080/"
    },
    "executionInfo": {
     "elapsed": 1832,
     "status": "ok",
     "timestamp": 1647822935490,
     "user": {
      "displayName": "Jooho Shin",
      "photoUrl": "https://lh3.googleusercontent.com/a/default-user=s64",
      "userId": "16439599331136410701"
     },
     "user_tz": -540
    },
    "id": "GkyGwvBfQg_q",
    "outputId": "1d305592-59c7-4d84-ac89-3c49e7442594"
   },
   "outputs": [
    {
     "name": "stdout",
     "output_type": "stream",
     "text": [
      "313/313 - 1s - loss: 0.0759 - accuracy: 0.9775 - 826ms/epoch - 3ms/step\n"
     ]
    },
    {
     "data": {
      "text/plain": [
       "[0.07587230950593948, 0.9775000214576721]"
      ]
     },
     "execution_count": 18,
     "metadata": {},
     "output_type": "execute_result"
    }
   ],
   "source": [
    "# 성과 평가\n",
    "model.evaluate(x_test,  y_test, verbose=2)"
   ]
  },
  {
   "cell_type": "code",
   "execution_count": null,
   "metadata": {
    "id": "7go47gtjbNti"
   },
   "outputs": [],
   "source": []
  }
 ],
 "metadata": {
  "accelerator": "GPU",
  "colab": {
   "authorship_tag": "ABX9TyMJ2LCcOAofW7GUF0O1GQyu",
   "collapsed_sections": [],
   "mount_file_id": "1KD49lILv2yskAOrOQ8h2ML8h7LDGVT3K",
   "name": "5_1_MNIST.ipynb",
   "provenance": []
  },
  "kernelspec": {
   "display_name": "Python 3 (ipykernel)",
   "language": "python",
   "name": "python3"
  },
  "language_info": {
   "codemirror_mode": {
    "name": "ipython",
    "version": 3
   },
   "file_extension": ".py",
   "mimetype": "text/x-python",
   "name": "python",
   "nbconvert_exporter": "python",
   "pygments_lexer": "ipython3",
   "version": "3.9.12"
  }
 },
 "nbformat": 4,
 "nbformat_minor": 1
}
